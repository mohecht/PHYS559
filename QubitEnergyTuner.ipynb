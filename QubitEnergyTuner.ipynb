{
 "cells": [
  {
   "cell_type": "code",
   "execution_count": 1,
   "metadata": {},
   "outputs": [],
   "source": [
    "import numpy as np\n",
    "import matplotlib.pyplot as plt\n",
    "from scipy import signal\n",
    "from qutip.operators import destroy,create\n",
    "import scipy.integrate as integrate"
   ]
  },
  {
   "cell_type": "markdown",
   "metadata": {},
   "source": [
    "Constants"
   ]
  },
  {
   "cell_type": "code",
   "execution_count": 2,
   "metadata": {},
   "outputs": [],
   "source": [
    "hbar = 1.054571e-34 # J*s\n",
    "pi = np.pi\n",
    "phi_0 = 2.06783384e-15 # Wb (or V*s)"
   ]
  },
  {
   "cell_type": "code",
   "execution_count": 3,
   "metadata": {},
   "outputs": [],
   "source": [
    "# Parameters from the Paper\n",
    "# Inductances (in H)\n",
    "Lc = 10e-9\n",
    "Lf = 10e-9\n",
    "L1 =  10e-9\n",
    "L2 =  10e-9\n",
    "L3 =  10e-9\n",
    "L4 =  10e-9\n",
    "\n",
    "# Inductor Loop inductances\n",
    "Ln0 = 1e-9\n",
    "Ln1 =  10e-9\n",
    "Ln2 =  10e-9\n",
    "Ln3 =  10e-9\n",
    "Ln4 =  10e-9\n",
    "Ln5 = 2e-9\n",
    "L_tot = Ln0 + Ln1 + Ln2 + Ln3 + Ln4 + Ln5\n",
    "\n",
    "# Mutual Inducctances (in H)\n",
    "Mc = 8e-9\n",
    "Mf = 0.8e-9\n",
    "\n",
    "# Due to Matching Conditions\n",
    "M1 = 8e-9\n",
    "M2 = 8e-9\n",
    "M3 = 0.8e-9\n",
    "M4 =0.8e-9\n",
    "M12 = 7.023e-9\n",
    "M34  = 7.023e-9\n",
    "# Mutual Inductance between QET and first SQUID loop\n",
    "M = 0.02e-9 # Henries \n",
    "\n",
    "\n",
    "# Coupling Coefficients\n",
    "K_c = Mc / Lc\n",
    "K_f = Mf / Lf\n",
    "K12 = M12/Lc\n",
    "K34 = M34/Lf\n"
   ]
  },
  {
   "cell_type": "code",
   "execution_count": 4,
   "metadata": {},
   "outputs": [],
   "source": [
    "F = (Lc*Lf) *((-L_tot*Lf+Mf**2)*Lc+Lf*Mc**2)+(Lf+M34)*(L_tot*Lf-L_tot*M34-2*Mf**2)*M12**2 +(2*(Lf**2)*(Mc**2)-2*(M34**2)*(Mc**2))*M12+ Lc*((L_tot*Lc-2*Mc**2)*(M34**2)+2*Lc*Mf*Mf*M34+Lc*Lf*Mf**2 + (Lf**2)*(Mc**2))"
   ]
  },
  {
   "cell_type": "markdown",
   "metadata": {},
   "source": [
    "Qubit Energy Tuner Functions"
   ]
  },
  {
   "cell_type": "code",
   "execution_count": 5,
   "metadata": {},
   "outputs": [],
   "source": [
    "# Possibly Needed Functions\n",
    "\n",
    "# Current through inductor Loop:\n",
    "def i_p_loop(phi_A, phi_B, phi_C, phi_D):\n",
    "    ''' \n",
    "    Computes current through inductor loop determined by Eq. 1\n",
    "    INPUT:\n",
    "    phi_(A/B/C/D): SFQ flux pulse (time integral of voltage at input A/B/C/D) in (Wb)\n",
    "    OUTPUT:\n",
    "    current through loop (in A)\n",
    "    '''\n",
    "    return (1/F) * ((phi_A -phi_B)*(Lf**2-M34**2)*(Lc+M12)*Mc+(phi_C-phi_D)*(Lc**2-M12**2)*(Lf+M34)*Mf)\n",
    "\n",
    "\n",
    "\n",
    "def n(phi_in,phi_out): # Equations 3 and 4\n",
    "    return ((phi_in - phi_out) / phi_0)\n",
    "\n",
    "# Equations 5 and 6\n",
    "def r(tuning = 'COARSE'):\n",
    "    if tuning == 'COARSE':\n",
    "       return (M/F) * (Lf**2 -M34**2)*(Lc + M12)*Mc\n",
    "    else:\n",
    "        return (M/F) * (Lc**2 -M12**2)*(Lf + M34)*Mf\n",
    "    \n",
    "\n",
    "# Currents from equations 7 and 8\n",
    "def d_ip_tuned(tuning = 'COARSE'):\n",
    "    ''' returns current in amperes'''\n",
    "    if tuning == 'COARSE':\n",
    "        return (1/F) *( Lf**2-M34**2)*(Lc+M12)*Mc*phi_0\n",
    "    else:\n",
    "        return (1/F) * (Lc**2 - M12**2)*(Lf+M34)*Mf*phi_0\n",
    "\n",
    "def Phi_ext_current(di): # Equations 9 and 10 and 29\n",
    "    ''' \n",
    "    compute the external flux through squid (use for both FINE and COARSE tuning)\n",
    "    INPUT:\n",
    "    di (Amperes): change in current\n",
    "    '''\n",
    "    return M*di \n",
    "\n",
    "# Equations 13 and 14\n",
    "def Phi_ext_tuned(tuning = 'COARSE'):\n",
    "    return r(tuning)* phi_0\n",
    "\n",
    "# Equation 11\n",
    "def i_p_quantized(phi_A, phi_B, phi_C, phi_D): \n",
    "    n_c = n(phi_A,phi_B)\n",
    "    n_f = n(phi_C,phi_D)\n",
    "   # print(n_c)\n",
    "   # print(n_f)\n",
    "    d_ipc = d_ip_tuned(\"COARSE\")\n",
    "    #print(d_ipc)\n",
    "    d_ipf = d_ip_tuned(\"FINE\")\n",
    "    #print(d_ipf)\n",
    "    return n_c * d_ipc + n_f * d_ipf\n",
    "\n",
    "# Equation 12\n",
    "def Phi_ext_flux(phi_A, phi_B, phi_C, phi_D):\n",
    "    n_c = n(phi_A,phi_B)\n",
    "    n_f = n(phi_C,phi_D)\n",
    "    Phi_ec = M * d_ip_tuned(\"COARSE\")\n",
    "    Phi_ef = M * d_ip_tuned(\"FINE\")\n",
    "    return n_c * Phi_ec + n_f * Phi_ef\n",
    "\n",
    "def plot_current(t,phiA,phiB,phiC,phiD):\n",
    "    ip = np.zeros(len(t))\n",
    "    for ii in range(len(t)):\n",
    "        if phiA[ii] != 0 or phiB[ii] != 0 or phiC[ii] != 0 or phiD[ii] != 0:\n",
    "            ip[ii:-1]+=i_p_quantized(phiA[ii], phiB[ii], phiC[ii], phiD[ii])\n",
    "        #if phiB[ii] != 0:\n",
    "        #    ip[ii:-1]+=i_p_quantized(phiA[ii], phiB[ii], phiC[ii], phiD[ii])\n",
    "        #if phiC[ii] != 0:\n",
    "        #    ip[ii:-1]+=i_p_quantized(phiA[ii], phiB[ii], phiC[ii], phiD[ii])\n",
    "        #if phiD[ii] != 0:\n",
    "        #    ip[ii:-1]+=i_p_quantized(phiA[ii], phiB[ii], phiC[ii], phiD[ii])\n",
    "    plt.plot(t,ip*1e6)\n",
    "    return ip # in Amperes"
   ]
  },
  {
   "cell_type": "markdown",
   "metadata": {},
   "source": [
    "Testing Analytical Solution for Current Loop"
   ]
  },
  {
   "cell_type": "markdown",
   "metadata": {},
   "source": [
    "$n_c = 1$, $n_f=0$, time between pulses: 2 ns"
   ]
  },
  {
   "cell_type": "code",
   "execution_count": 6,
   "metadata": {},
   "outputs": [
    {
     "data": {
      "text/plain": [
       "[<matplotlib.lines.Line2D at 0x20d3cd3f7c0>]"
      ]
     },
     "execution_count": 6,
     "metadata": {},
     "output_type": "execute_result"
    },
    {
     "data": {
      "image/png": "[encoded data removed]",
      "text/plain": [
       "<Figure size 432x288 with 1 Axes>"
      ]
     },
     "metadata": {
      "needs_background": "light"
     },
     "output_type": "display_data"
    }
   ],
   "source": [
    "t_final = 5 # ns\n",
    "dt = 0.0001 # ns\n",
    "t_pulse = 2 # ns\n",
    "t = np.arange(0,t_final,dt)\n",
    "phiA = np.zeros(len(t))\n",
    "phiB = np.zeros(len(t))\n",
    "phiC = np.zeros(len(t))\n",
    "phiD = np.zeros(len(t))\n",
    "\n",
    "phiA[int(2/dt)] = phi_0\n",
    "phiB[int(4/dt)] = phi_0\n",
    "plt.plot(t,phiA)\n",
    "plt.plot(t,phiB)\n"
   ]
  },
  {
   "cell_type": "code",
   "execution_count": 7,
   "metadata": {},
   "outputs": [
    {
     "data": {
      "image/png": "[encoded data removed]",
      "text/plain": [
       "<Figure size 432x288 with 1 Axes>"
      ]
     },
     "metadata": {
      "needs_background": "light"
     },
     "output_type": "display_data"
    }
   ],
   "source": [
    "ip= plot_current(t,phiA,phiB,phiC,phiD)"
   ]
  },
  {
   "cell_type": "code",
   "execution_count": 8,
   "metadata": {},
   "outputs": [
    {
     "data": {
      "text/plain": [
       "<matplotlib.legend.Legend at 0x20d3df35520>"
      ]
     },
     "execution_count": 8,
     "metadata": {},
     "output_type": "execute_result"
    },
    {
     "data": {
      "image/png": "[encoded data removed]",
      "text/plain": [
       "<Figure size 432x288 with 1 Axes>"
      ]
     },
     "metadata": {
      "needs_background": "light"
     },
     "output_type": "display_data"
    }
   ],
   "source": [
    "t_final = 35# ns\n",
    "dt = 0.0001 # ns\n",
    "t_pulse = 2 # ns\n",
    "t = np.arange(0,t_final,dt)\n",
    "phiA = np.zeros(len(t))\n",
    "phiB = np.zeros(len(t))\n",
    "phiC = np.zeros(len(t))\n",
    "phiD = np.zeros(len(t))\n",
    "\n",
    "phiA[int(2/dt)] = phiA[int(10/dt)] = phiA[int(18/dt)] = phiA[int(20/dt)] = phi_0\n",
    "phiB[int(4/dt)] = phiB[int(16/dt)] = phiB[int(22/dt)] = phiB[int(24/dt)] = phi_0\n",
    "phiC[int(6/dt)] = phiC[int(12/dt)] = phiC[int(26/dt)] = phiC[int(28/dt)] = phi_0\n",
    "phiD[int(8/dt)] = phiD[int(14/dt)] = phiD[int(30/dt)] = phiD[int(32/dt)]  =phi_0\n",
    "\n",
    "\n",
    "\n",
    "plt.plot(t,phiA/phi_0, label = 'A')\n",
    "plt.plot(t,phiB/phi_0, label = 'B')\n",
    "plt.plot(t,phiC/phi_0, label = 'C')\n",
    "plt.plot(t,phiD/phi_0, label = 'D')\n",
    "plt.xlabel('time(ns)')\n",
    "plt.ylabel('Flux Quanta')\n",
    "plt.legend()"
   ]
  },
  {
   "cell_type": "code",
   "execution_count": 9,
   "metadata": {},
   "outputs": [
    {
     "data": {
      "text/plain": [
       "Text(0, 0.5, '$i_p(t)$ ($\\\\mu$A)')"
      ]
     },
     "execution_count": 9,
     "metadata": {},
     "output_type": "execute_result"
    },
    {
     "data": {
      "image/png": "[encoded data removed]",
      "text/plain": [
       "<Figure size 432x288 with 1 Axes>"
      ]
     },
     "metadata": {
      "needs_background": "light"
     },
     "output_type": "display_data"
    }
   ],
   "source": [
    "ip= plot_current(t,phiA,phiB,phiC,phiD)\n",
    "plt.xlabel('Time (ns)')\n",
    "plt.ylabel(r'$i_p(t)$ ($\\mu$A)')"
   ]
  },
  {
   "cell_type": "markdown",
   "metadata": {},
   "source": [
    "Ideal Z Control"
   ]
  },
  {
   "cell_type": "code",
   "execution_count": 10,
   "metadata": {},
   "outputs": [],
   "source": [
    "# Parameters from Paper:\n",
    "\n",
    "#Josephson Energies (for qubit 1):\n",
    "EJ1 = hbar * 2 * pi * 11.147e9\n",
    "EJ2 = hbar * 2 * pi * 11.147e9\n",
    "EJ = hbar * 2 * pi * 11.147e9\n",
    "#Charging Energy for Transmon (for qubit 1):\n",
    "Ec = hbar * 2 * pi * 148.628e6 \n",
    "\n",
    "# Operators \n",
    "a = destroy(2)\n",
    "a_dag = create(2)"
   ]
  },
  {
   "cell_type": "code",
   "execution_count": 11,
   "metadata": {},
   "outputs": [],
   "source": [
    "# Total Josephson Coupling Energy\n",
    "def E_Jsigma (EJ1, EJ2):\n",
    "    return EJ1 + EJ2\n",
    "\n",
    "def reduced_flux(phi):\n",
    "    return pi * phi / phi_0\n",
    "# Effective Josephson Energy of SQUID\n",
    "def E_JS(EJ1, EJ2,x, flux = True):\n",
    "    d = (EJ2 - EJ1)/E_Jsigma(EJ1,EJ2)\n",
    "    if flux:\n",
    "        return E_Jsigma(EJ1,EJ2) *np.abs(np.cos(x)) * np.sqrt(1+(d**2)*(np.tan(x)**2))\n",
    "    else:\n",
    "        return E_Jsigma(EJ1,EJ2) *np.abs(np.cos(pi * M * x/ phi_0)) * np.sqrt(1+(d**2)*(np.tan(pi * M * x /phi_0)**2))\n",
    "    \n",
    "def ground(Ec,EJ1, EJ2,x, flux = True):\n",
    "    EJ = E_JS(EJ1, EJ2,x, flux)\n",
    "    return -Ec/4 - EJ\n",
    "\n",
    "def first_excited(Ec,EJ1,EJ2,x,flux = True):\n",
    "    EJ = E_JS(EJ1, EJ2,x, flux)\n",
    "    return np.sqrt(8*Ec*EJ) -Ec - Ec/4 - EJ\n",
    "\n",
    "def second_excited(Ec,EJ1,EJ2,x,flux = True):\n",
    "    EJ = E_JS(EJ1, EJ2,x, flux)\n",
    "    return  2 * np.sqrt(8*Ec*EJ) - 3*Ec -Ec/4  - EJ\n",
    "\n",
    "def E10(E1,E0):\n",
    "    return E1- E0\n",
    "\n",
    "def E21(E2,E1):\n",
    "    return E2-E1\n",
    "\n",
    "def anharmonicity(E21,E10):\n",
    "    return E21-E10\n",
    "\n",
    "def qubit_freq(Ec, EJ1, EJ2,x, flux = False):\n",
    "    EJ = E_JS(EJ1, EJ2,x, flux)\n",
    "    return (np.sqrt(8 * Ec * EJ) - Ec)/ hbar\n",
    "\n",
    "def d_omega_freq(w_work, w_idle):\n",
    "    return w_work - w_idle\n",
    "\n",
    "def d_omega_energy(Ec, EJ1, EJ2,x_work,x_idle, flux = False):\n",
    "    EJ_work = E_JS(EJ1, EJ2,x_work, flux)\n",
    "    EJ_idle = E_JS(EJ1, EJ2,x_idle, flux)\n",
    "    return np.sqrt(8*Ec) * (np.sqrt(EJ_work)- np.sqrt(EJ_idle))\n",
    "\n",
    "def qubit_ham(omega,alpha):\n",
    "    return hbar*(omega* a_dag*a + (alpha/2)* a_dag*a_dag*a*a) \n",
    "\n",
    "def drive_ham_z(omega):\n",
    "    return hbar * omega * a_dag * a"
   ]
  },
  {
   "cell_type": "code",
   "execution_count": 12,
   "metadata": {},
   "outputs": [],
   "source": [
    "def square_pulse_z(t,t_start,t_gate,Imax):\n",
    "    #t = np.arange(0,t_meas,dt)\n",
    "    t_end = t_start+t_gate\n",
    "    ip = np.zeros(len(t))\n",
    "    for ii in range(len(t)):\n",
    "        if (t[ii]>=t_start) and (t[ii]<=t_end):\n",
    "            ip[ii] = Imax\n",
    "    return ip"
   ]
  },
  {
   "cell_type": "code",
   "execution_count": 13,
   "metadata": {},
   "outputs": [],
   "source": [
    "def phi_rot(Ec,Ej, i, t):\n",
    "    return ( 4 * np.sqrt(Ec*Ej) / hbar) * (1 - np.sqrt(np.abs(np.cos(pi * M * i /phi_0)))) * t\n",
    "\n",
    "def unitary_z(Ec,Ej, i, t):\n",
    "    phi =  phi_rot(Ec,Ej, i, t)\n",
    "    return np.array([[1,0],[0, np.exp(1j*phi)]])"
   ]
  },
  {
   "cell_type": "code",
   "execution_count": 14,
   "metadata": {},
   "outputs": [
    {
     "data": {
      "text/plain": [
       "array([[ 1.        +0.j        ,  0.        +0.j        ],\n",
       "       [ 0.        +0.j        , -0.99999988+0.00048265j]])"
      ]
     },
     "execution_count": 14,
     "metadata": {},
     "output_type": "execute_result"
    }
   ],
   "source": [
    "ipc =  13.58935e-6\n",
    "t_gate = 2.261e-9 # ns\n",
    "unitary_z(Ec,EJ, ipc, t_gate)"
   ]
  },
  {
   "cell_type": "code",
   "execution_count": 15,
   "metadata": {},
   "outputs": [
    {
     "data": {
      "text/plain": [
       "Text(0, 0.5, 'Inductor Loop Current ($\\\\mu$A)')"
      ]
     },
     "execution_count": 15,
     "metadata": {},
     "output_type": "execute_result"
    },
    {
     "data": {
      "image/png": "[encoded data removed]",
      "text/plain": [
       "<Figure size 432x288 with 1 Axes>"
      ]
     },
     "metadata": {
      "needs_background": "light"
     },
     "output_type": "display_data"
    }
   ],
   "source": [
    "dt = 0.001 # ns\n",
    "t_gate = 2.261 # ns\n",
    "ipc = 13.58935 #ua\n",
    "t_start = 1.1 # ns\n",
    "t_meas = 4.5 # ns\n",
    "\n",
    "t = np.arange(0,t_meas,dt)\n",
    "\n",
    "ip = square_pulse_z(t,t_start,t_gate,ipc)\n",
    "plt.plot (t,ip)\n",
    "plt.xlabel('time (ns)')\n",
    "plt.ylabel(r'Inductor Loop Current ($\\mu$A)')"
   ]
  },
  {
   "cell_type": "code",
   "execution_count": null,
   "metadata": {},
   "outputs": [],
   "source": []
  },
  {
   "cell_type": "markdown",
   "metadata": {},
   "source": [
    "Z-Gate Pulse and current"
   ]
  },
  {
   "cell_type": "code",
   "execution_count": 16,
   "metadata": {},
   "outputs": [
    {
     "data": {
      "text/plain": [
       "[<matplotlib.lines.Line2D at 0x20d424727f0>]"
      ]
     },
     "execution_count": 16,
     "metadata": {},
     "output_type": "execute_result"
    },
    {
     "data": {
      "image/png": "[encoded data removed]",
      "text/plain": [
       "<Figure size 432x288 with 1 Axes>"
      ]
     },
     "metadata": {
      "needs_background": "light"
     },
     "output_type": "display_data"
    }
   ],
   "source": [
    "t = np.arange(0,t_meas,dt)\n",
    "dt = 0.001 # ns\n",
    "t_gate = 2.261 # ns\n",
    "t_start = 1.1 # ns\n",
    "t_meas = 4.5 # ns\n",
    "t_end = t_start + t_gate\n",
    "t = np.arange(0,t_meas,dt)\n",
    "\n",
    "phiA = np.zeros(len(t))\n",
    "phiB = np.zeros(len(t))\n",
    "phiA[int(t_start/dt)] = phi_0\n",
    "phiB[int(t_end/dt)] = phi_0\n",
    "phiC = np.zeros(len(t))\n",
    "phiD = np.zeros(len(t))\n",
    "plt.plot(t,phiA/phi_0)\n",
    "plt.plot(t,phiB/phi_0)"
   ]
  },
  {
   "cell_type": "markdown",
   "metadata": {},
   "source": [
    "Current array for z-gate"
   ]
  },
  {
   "cell_type": "code",
   "execution_count": 17,
   "metadata": {},
   "outputs": [
    {
     "data": {
      "image/png": "[encoded data removed]",
      "text/plain": [
       "<Figure size 432x288 with 1 Axes>"
      ]
     },
     "metadata": {
      "needs_background": "light"
     },
     "output_type": "display_data"
    }
   ],
   "source": [
    "ip = plot_current(t,phiA,phiB,phiC,phiD)"
   ]
  },
  {
   "cell_type": "code",
   "execution_count": 18,
   "metadata": {},
   "outputs": [
    {
     "data": {
      "text/plain": [
       "Text(0, 0.5, 'Qubit Eigenfrequencies (GHz)')"
      ]
     },
     "execution_count": 18,
     "metadata": {},
     "output_type": "execute_result"
    },
    {
     "data": {
      "image/png": "[encoded data removed]",
      "text/plain": [
       "<Figure size 432x288 with 1 Axes>"
      ]
     },
     "metadata": {
      "needs_background": "light"
     },
     "output_type": "display_data"
    }
   ],
   "source": [
    "E0 = ground(Ec,EJ1, EJ2,ip, flux = False)\n",
    "E1 = first_excited(Ec,EJ1,EJ2,ip,flux = False)\n",
    "E2 = second_excited(Ec,EJ1,EJ2,ip,flux = False)\n",
    "plt.plot(t,E0/(hbar * 2 * pi)*1e-9,label = 'Ground')\n",
    "plt.plot(t,E1/(hbar * 2 * pi)*1e-9,label ='First')\n",
    "plt.plot(t,E2/(hbar * 2 * pi)*1e-9, label = 'Second')\n",
    "plt.legend()\n",
    "plt.xlabel('time (ns)')\n",
    "plt.ylabel('Qubit Eigenfrequencies (GHz)')"
   ]
  },
  {
   "cell_type": "code",
   "execution_count": 19,
   "metadata": {},
   "outputs": [
    {
     "data": {
      "text/plain": [
       "[<matplotlib.lines.Line2D at 0x20d3d245fd0>]"
      ]
     },
     "execution_count": 19,
     "metadata": {},
     "output_type": "execute_result"
    },
    {
     "data": {
      "image/png": "[encoded data removed]",
      "text/plain": [
       "<Figure size 432x288 with 1 Axes>"
      ]
     },
     "metadata": {
      "needs_background": "light"
     },
     "output_type": "display_data"
    }
   ],
   "source": [
    "plt.plot(t,5-(E1-E0)/(hbar * 2 * pi)*1e-9)"
   ]
  },
  {
   "cell_type": "code",
   "execution_count": 20,
   "metadata": {},
   "outputs": [],
   "source": [
    "w_qb = qubit_freq(Ec, EJ1, EJ2,ip, flux = False)"
   ]
  },
  {
   "cell_type": "code",
   "execution_count": 21,
   "metadata": {},
   "outputs": [
    {
     "data": {
      "text/plain": [
       "31415762258.778343"
      ]
     },
     "execution_count": 21,
     "metadata": {},
     "output_type": "execute_result"
    }
   ],
   "source": [
    "qubit_freq(Ec, EJ1, EJ2,0, flux = False)"
   ]
  },
  {
   "cell_type": "markdown",
   "metadata": {},
   "source": [
    "iSWAP GATE"
   ]
  },
  {
   "cell_type": "code",
   "execution_count": 23,
   "metadata": {},
   "outputs": [],
   "source": [
    "# coupling strength\n",
    "\n",
    "g = 2 * pi * 5e6 # Hz\n",
    "\n",
    "w1 = 2 * pi * 5e9\n",
    "\n",
    "w2 = 2 * pi * 4.779e9"
   ]
  },
  {
   "cell_type": "code",
   "execution_count": 24,
   "metadata": {},
   "outputs": [
    {
     "data": {
      "text/plain": [
       "[<matplotlib.lines.Line2D at 0x20d3d32e070>]"
      ]
     },
     "execution_count": 24,
     "metadata": {},
     "output_type": "execute_result"
    },
    {
     "data": {
      "image/png": "[encoded data removed]",
      "text/plain": [
       "<Figure size 432x288 with 1 Axes>"
      ]
     },
     "metadata": {
      "needs_background": "light"
     },
     "output_type": "display_data"
    }
   ],
   "source": [
    "dt = 0.001 # ns\n",
    "t_gate = 49.16 # ns\n",
    "t_start = 5 # ns\n",
    "t_meas = 60 # ns\n",
    "t_end = t_start + t_gate\n",
    "t = np.arange(0,t_meas,dt)\n",
    "\n",
    "phiA = np.zeros(len(t))\n",
    "phiB = np.zeros(len(t))\n",
    "phiA[int(t_start/dt)] = phi_0\n",
    "phiB[int(t_end/dt)] = phi_0\n",
    "phiC = np.zeros(len(t))\n",
    "phiD = np.zeros(len(t))\n",
    "plt.plot(t,phiA/phi_0)\n",
    "plt.plot(t,phiB/phi_0)"
   ]
  },
  {
   "cell_type": "code",
   "execution_count": 25,
   "metadata": {},
   "outputs": [
    {
     "data": {
      "image/png": "[encoded data removed]",
      "text/plain": [
       "<Figure size 432x288 with 1 Axes>"
      ]
     },
     "metadata": {
      "needs_background": "light"
     },
     "output_type": "display_data"
    }
   ],
   "source": [
    "ip = plot_current(t,phiA,phiB,phiC,phiD)"
   ]
  },
  {
   "cell_type": "code",
   "execution_count": 26,
   "metadata": {},
   "outputs": [
    {
     "data": {
      "text/plain": [
       "[<matplotlib.lines.Line2D at 0x20d3d3fc5b0>]"
      ]
     },
     "execution_count": 26,
     "metadata": {},
     "output_type": "execute_result"
    },
    {
     "data": {
      "image/png": "[encoded data removed]",
      "text/plain": [
       "<Figure size 432x288 with 1 Axes>"
      ]
     },
     "metadata": {
      "needs_background": "light"
     },
     "output_type": "display_data"
    }
   ],
   "source": [
    "w_qb1 = qubit_freq(Ec, EJ1, EJ2,ip, flux = False)\n",
    "plt.plot(t,w_qb1/(2*pi) )\n",
    "w_qb2 = 4.779e9 * np.ones(len(t))\n",
    "plt.plot(t,w_qb2)"
   ]
  },
  {
   "cell_type": "code",
   "execution_count": 27,
   "metadata": {},
   "outputs": [
    {
     "data": {
      "text/plain": [
       "4796634296.830974"
      ]
     },
     "execution_count": 27,
     "metadata": {},
     "output_type": "execute_result"
    }
   ],
   "source": [
    "np.min(w_qb1)/(2*pi)\n"
   ]
  }
 ],
 "metadata": {
  "kernelspec": {
   "display_name": "base",
   "language": "python",
   "name": "python3"
  },
  "language_info": {
   "codemirror_mode": {
    "name": "ipython",
    "version": 3
   },
   "file_extension": ".py",
   "mimetype": "text/x-python",
   "name": "python",
   "nbconvert_exporter": "python",
   "pygments_lexer": "ipython3",
   "version": "3.9.7"
  }
 },
 "nbformat": 4,
 "nbformat_minor": 2
}
