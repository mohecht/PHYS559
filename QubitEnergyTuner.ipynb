{
 "cells": [
  {
   "cell_type": "code",
   "execution_count": 1,
   "metadata": {},
   "outputs": [],
   "source": [
    "\n",
    "import numpy as np\n",
    "import matplotlib.pyplot as plt\n"
   ]
  },
  {
   "cell_type": "code",
   "execution_count": null,
   "metadata": {},
   "outputs": [],
   "source": [
    "hbar = 1.054571e-34 # J*s\n",
    "pi = np.pi\n",
    "phi_0 = 2.06783384e-15 # Wb (or V*s)"
   ]
  },
  {
   "cell_type": "code",
   "execution_count": null,
   "metadata": {},
   "outputs": [],
   "source": [
    "# Parameters from the Paper\n",
    "# Inductances (in H)\n",
    "Lc = 10e-9\n",
    "Lf = 10e-9\n",
    "L1 = Lc\n",
    "L2 = Lc\n",
    "L3 = Lf\n",
    "L4 = Lf\n",
    "\n",
    "# Inductor Loop inductances\n",
    "Ln0 = 1e-9\n",
    "Ln1 = Lc\n",
    "Ln2 = Lc\n",
    "Ln3 = Lf\n",
    "Ln4 = Lf\n",
    "Ln5 = 2e-9\n",
    "L_tot = Ln0 + Ln1 + Ln2 + Ln3 + Ln4 + Ln5\n",
    "\n",
    "# Mutual Inducctances (in H)\n",
    "Mc = 8e-9\n",
    "Mf = 0.8e-9\n",
    "\n",
    "# Due to Matching Conditions\n",
    "M1 = Mc\n",
    "M2 = Mc \n",
    "M3 = Mf\n",
    "M4 = Mf\n",
    "M12 = 7.023e-9\n",
    "M34  = 7.023e-9"
   ]
  },
  {
   "cell_type": "code",
   "execution_count": null,
   "metadata": {},
   "outputs": [],
   "source": [
    "F = (L2 * ((M34**2)*(L1*L_tot - M1**2)+2*L1*M3*M34*M4+L3*(-L4*(L1*L_tot-M1**2)+L1*M4**2)+L1*L4*M3**2) +(-L1*(M2**2) -L_tot*(M12**2) \n",
    "                                                        - 2*M1*M12*M2)*M34**2 - 2*(M12**2)*M3*M34*M4 + L3((L1*M2**2 + L_tot*M12**2+2*M1*M12*M2)*L4 - (M12**2)*M4**2)\n",
    "                                                    -L4*(M12**2)*M3**2    )"
   ]
  },
  {
   "cell_type": "code",
   "execution_count": null,
   "metadata": {},
   "outputs": [],
   "source": [
    "# Current through inductor Loop:\n",
    "i_p = lambda phi_A, phi_B, phi_C, phi_D: (1/F) *((phi_A -phi_B)*(Lf**2-M34**2)*(Lc+M12)*Mc+(phi_C-phi_D)*(Lc**2-M12**2)*(Lf+M34)*Mf)"
   ]
  },
  {
   "cell_type": "code",
   "execution_count": null,
   "metadata": {},
   "outputs": [],
   "source": [
    "phiA = \n",
    "phiB = \n",
    "phiC = \n",
    "phiD =\n",
    "M = 1 # I am not sure waht this parameter is this will change as I figure out what it is"
   ]
  },
  {
   "cell_type": "code",
   "execution_count": null,
   "metadata": {},
   "outputs": [],
   "source": [
    "phi_ext = M * i_p(phiA,phiB,phiC,phiD)"
   ]
  },
  {
   "cell_type": "code",
   "execution_count": null,
   "metadata": {},
   "outputs": [],
   "source": [
    "\n",
    "\n",
    "#Josephson Energies (these values will need to be modified; just using placeholders)\n",
    "EJ1 = 1\n",
    "EJ2 = 1\n",
    "# Total Josephson Coupling Energy of Two Junctions in SQUID\n",
    "E_Jsigma = EJ1 + EJ2\n",
    "# Asymmetry coefficient\n",
    "d = (EJ2 - EJ1)/E_Jsigma\n",
    "# Reduced External flux  \n",
    "\n",
    "# Effective Josephson Energy of SQUID\n",
    "E_JS = lambda phi: E_Jsigma *np.abs(np.cos(phi)) * np.sqrt()"
   ]
  },
  {
   "cell_type": "code",
   "execution_count": null,
   "metadata": {},
   "outputs": [],
   "source": [
    "# Hamiltonian for Flux-Tunable Transmon (current values are not real, will need to be modified)\n",
    "\n",
    "#Charging Energy for Transmon\n",
    "Ec = 1\n"
   ]
  }
 ],
 "metadata": {
  "kernelspec": {
   "display_name": "base",
   "language": "python",
   "name": "python3"
  },
  "language_info": {
   "codemirror_mode": {
    "name": "ipython",
    "version": 3
   },
   "file_extension": ".py",
   "mimetype": "text/x-python",
   "name": "python",
   "nbconvert_exporter": "python",
   "pygments_lexer": "ipython3",
   "version": "3.9.7"
  }
 },
 "nbformat": 4,
 "nbformat_minor": 2
}
